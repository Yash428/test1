{
 "cells": [
  {
   "cell_type": "code",
   "execution_count": 2,
   "id": "55b9897e-5539-4787-b79f-75093ed14a12",
   "metadata": {},
   "outputs": [
    {
     "name": "stdout",
     "output_type": "stream",
     "text": [
      "Defaulting to user installation because normal site-packages is not writeable\n",
      "Collecting ann_visualizer\n",
      "  Downloading ann_visualizer-2.5.tar.gz (4.7 kB)\n",
      "  Preparing metadata (setup.py): started\n",
      "  Preparing metadata (setup.py): finished with status 'done'\n",
      "Building wheels for collected packages: ann_visualizer\n",
      "  Building wheel for ann_visualizer (setup.py): started\n",
      "  Building wheel for ann_visualizer (setup.py): finished with status 'done'\n",
      "  Created wheel for ann_visualizer: filename=ann_visualizer-2.5-py3-none-any.whl size=4181 sha256=5e5bf02f945ac2885feadfd008cdaabe1ffada4420da737559f32dd7d5aa5332\n",
      "  Stored in directory: c:\\users\\yash patel\\appdata\\local\\pip\\cache\\wheels\\28\\4a\\ad\\e82da1aad2994e42bf0f4b1d403fdd8a64dfc38ae2c8a5daa4\n",
      "Successfully built ann_visualizer\n",
      "Installing collected packages: ann_visualizer\n",
      "Successfully installed ann_visualizer-2.5\n",
      "Defaulting to user installation because normal site-packages is not writeable\n",
      "Collecting graphviz\n",
      "  Downloading graphviz-0.20.3-py3-none-any.whl.metadata (12 kB)\n",
      "Downloading graphviz-0.20.3-py3-none-any.whl (47 kB)\n",
      "   ---------------------------------------- 0.0/47.1 kB ? eta -:--:--\n",
      "   -------- ------------------------------- 10.2/47.1 kB ? eta -:--:--\n",
      "   -------- ------------------------------- 10.2/47.1 kB ? eta -:--:--\n",
      "   ----------------- ---------------------- 20.5/47.1 kB 165.2 kB/s eta 0:00:01\n",
      "   -------------------------- ------------- 30.7/47.1 kB 163.8 kB/s eta 0:00:01\n",
      "   ---------------------------------------- 47.1/47.1 kB 214.5 kB/s eta 0:00:00\n",
      "Installing collected packages: graphviz\n",
      "Successfully installed graphviz-0.20.3\n"
     ]
    }
   ],
   "source": [
    "!pip3 install ann_visualizer\n",
    "!pip3 install graphviz"
   ]
  },
  {
   "cell_type": "code",
   "execution_count": 3,
   "id": "082c9bf2-3039-49c1-816e-2b40c057c30c",
   "metadata": {},
   "outputs": [
    {
     "name": "stderr",
     "output_type": "stream",
     "text": [
      "C:\\Users\\YASH PATEL\\AppData\\Roaming\\Python\\Python311\\site-packages\\keras\\src\\layers\\core\\dense.py:87: UserWarning: Do not pass an `input_shape`/`input_dim` argument to a layer. When using Sequential models, prefer using an `Input(shape)` object as the first layer in the model instead.\n",
      "  super().__init__(activity_regularizer=activity_regularizer, **kwargs)\n"
     ]
    },
    {
     "ename": "AttributeError",
     "evalue": "'Dense' object has no attribute 'input_shape'",
     "output_type": "error",
     "traceback": [
      "\u001b[1;31m---------------------------------------------------------------------------\u001b[0m",
      "\u001b[1;31mAttributeError\u001b[0m                            Traceback (most recent call last)",
      "Cell \u001b[1;32mIn[3], line 24\u001b[0m\n\u001b[0;32m     18\u001b[0m network\u001b[38;5;241m.\u001b[39madd(Dense(units\u001b[38;5;241m=\u001b[39m\u001b[38;5;241m1\u001b[39m,\n\u001b[0;32m     19\u001b[0m                   activation\u001b[38;5;241m=\u001b[39m\u001b[38;5;124m'\u001b[39m\u001b[38;5;124msigmoid\u001b[39m\u001b[38;5;124m'\u001b[39m,\n\u001b[0;32m     20\u001b[0m                   kernel_initializer\u001b[38;5;241m=\u001b[39m\u001b[38;5;124m'\u001b[39m\u001b[38;5;124muniform\u001b[39m\u001b[38;5;124m'\u001b[39m));\n\u001b[0;32m     22\u001b[0m \u001b[38;5;28;01mfrom\u001b[39;00m \u001b[38;5;21;01mann_visualizer\u001b[39;00m\u001b[38;5;21;01m.\u001b[39;00m\u001b[38;5;21;01mvisualize\u001b[39;00m \u001b[38;5;28;01mimport\u001b[39;00m ann_viz;\n\u001b[1;32m---> 24\u001b[0m ann_viz(network, title\u001b[38;5;241m=\u001b[39m\u001b[38;5;124m\"\u001b[39m\u001b[38;5;124m\"\u001b[39m)\n",
      "File \u001b[1;32m~\\AppData\\Roaming\\Python\\Python311\\site-packages\\ann_visualizer\\visualize.py:42\u001b[0m, in \u001b[0;36mann_viz\u001b[1;34m(model, view, filename, title)\u001b[0m\n\u001b[0;32m     40\u001b[0m \u001b[38;5;28;01mfor\u001b[39;00m layer \u001b[38;5;129;01min\u001b[39;00m model\u001b[38;5;241m.\u001b[39mlayers:\n\u001b[0;32m     41\u001b[0m     \u001b[38;5;28;01mif\u001b[39;00m(layer \u001b[38;5;241m==\u001b[39m model\u001b[38;5;241m.\u001b[39mlayers[\u001b[38;5;241m0\u001b[39m]):\n\u001b[1;32m---> 42\u001b[0m         input_layer \u001b[38;5;241m=\u001b[39m \u001b[38;5;28mint\u001b[39m(\u001b[38;5;28mstr\u001b[39m(layer\u001b[38;5;241m.\u001b[39minput_shape)\u001b[38;5;241m.\u001b[39msplit(\u001b[38;5;124m\"\u001b[39m\u001b[38;5;124m,\u001b[39m\u001b[38;5;124m\"\u001b[39m)[\u001b[38;5;241m1\u001b[39m][\u001b[38;5;241m1\u001b[39m:\u001b[38;5;241m-\u001b[39m\u001b[38;5;241m1\u001b[39m]);\n\u001b[0;32m     43\u001b[0m         hidden_layers_nr \u001b[38;5;241m+\u001b[39m\u001b[38;5;241m=\u001b[39m \u001b[38;5;241m1\u001b[39m;\n\u001b[0;32m     44\u001b[0m         \u001b[38;5;28;01mif\u001b[39;00m (\u001b[38;5;28mtype\u001b[39m(layer) \u001b[38;5;241m==\u001b[39m keras\u001b[38;5;241m.\u001b[39mlayers\u001b[38;5;241m.\u001b[39mcore\u001b[38;5;241m.\u001b[39mDense):\n",
      "\u001b[1;31mAttributeError\u001b[0m: 'Dense' object has no attribute 'input_shape'"
     ]
    }
   ],
   "source": [
    "import keras;\n",
    "from keras.models import Sequential;\n",
    "from keras.layers import Dense;\n",
    "\n",
    "network = Sequential();\n",
    "        #Hidden Layer#1\n",
    "network.add(Dense(units=6,\n",
    "                  activation='relu',\n",
    "                  kernel_initializer='uniform',\n",
    "                  input_dim=11));\n",
    "\n",
    "        #Hidden Layer#2\n",
    "network.add(Dense(units=6,\n",
    "                  activation='relu',\n",
    "                  kernel_initializer='uniform'));\n",
    "\n",
    "        #Exit Layer\n",
    "network.add(Dense(units=1,\n",
    "                  activation='sigmoid',\n",
    "                  kernel_initializer='uniform'));\n",
    "\n",
    "from ann_visualizer.visualize import ann_viz;\n",
    "\n",
    "ann_viz(network, title=\"\");"
   ]
  },
  {
   "cell_type": "code",
   "execution_count": null,
   "id": "7040f95b-e134-4af2-b156-d148a623ff41",
   "metadata": {},
   "outputs": [],
   "source": []
  },
  {
   "cell_type": "code",
   "execution_count": null,
   "id": "9f0312d2-51be-4dd5-9390-34acd888d293",
   "metadata": {},
   "outputs": [],
   "source": []
  },
  {
   "cell_type": "code",
   "execution_count": null,
   "id": "3d7d6d14-1d7e-44ac-940f-a26418ce270b",
   "metadata": {},
   "outputs": [],
   "source": []
  },
  {
   "cell_type": "code",
   "execution_count": null,
   "id": "38c3cf36-7c9a-4d35-a763-e9e0eeea0af2",
   "metadata": {},
   "outputs": [],
   "source": []
  }
 ],
 "metadata": {
  "kernelspec": {
   "display_name": "Python 3 (ipykernel)",
   "language": "python",
   "name": "python3"
  },
  "language_info": {
   "codemirror_mode": {
    "name": "ipython",
    "version": 3
   },
   "file_extension": ".py",
   "mimetype": "text/x-python",
   "name": "python",
   "nbconvert_exporter": "python",
   "pygments_lexer": "ipython3",
   "version": "3.11.7"
  }
 },
 "nbformat": 4,
 "nbformat_minor": 5
}
